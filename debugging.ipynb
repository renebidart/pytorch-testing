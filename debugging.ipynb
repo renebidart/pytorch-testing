{
 "cells": [
  {
   "cell_type": "markdown",
   "metadata": {},
   "source": [
    "# TODO\n",
    "Specialized gradient visualizations:\n",
    "* How much of the visualizations should be on tensorboard? some seem better for a simple graph (just training / val loss), but for a lot of things it seems useful to look at the gradients of all layers. If these cases can be seperated easily maybe do your own graphs, otherwise tensorboard all the way."
   ]
  },
  {
   "cell_type": "markdown",
   "metadata": {},
   "source": [
    "# Debugging CNNs\n",
    "* Here we focus on: **Debuging model / training procedure / gradients**\n",
    "* References:\n",
    "1. https://karpathy.github.io/2019/04/25/recipe/\n",
    "2. https://stats.stackexchange.com/questions/352036/what-should-i-do-when-my-neural-network-doesnt-learn\n",
    "3. https://medium.com/@keeper6928/how-to-unit-test-machine-learning-code-57cf6fd81765\n",
    "4. https://github.com/suriyadeepan/torchtest/\n",
    "\n",
    "## Process of making a good CNN:\n",
    "### Understanding the problem\n",
    "* The optimal model for a given problem is dataset dependent (need large or local context? Is Global Average Pooling ok?)\n",
    "* Everything is dataset specific when trying to make a really good model\n",
    "* **Missing Dataset Exploration**: For this we are debugging architectures, not particular approaches to a certain dataset. For this reason stick with CIFAR10, as the smallest dataset that still looks like other image recgonition problems.\n",
    "\n",
    "### End to end training + dumb baselines\n",
    "We need to know how the model should perform first.\n",
    "**Baselines**: Super simple ones. Without data augmentation. Fixed random seed.\n",
    "1. Linear Model\n",
    "2. Fully Connected Conv Net (3 layers)\n",
    "3. CNN (3 layers -> GAP -> FC)\n",
    "4. ResNet50\n",
    "\n",
    "### Debuging model / training procedure\n",
    "* Overfit a small batch to see if model is working\n",
    "* Make sure aren't mixing channels accidentally\n",
    "* More advanced gradient debugging (e.g. something like figuring out if a sigmoid is stopping your gradient, etc.)\n",
    "\n",
    "### Making a good model:\n",
    "1. Make a model large enough to overfit your training set\n",
    "2. Gradually add some kind of regularization till it gets better. (more data, dropout, early stopping, more data augmentation)\n",
    "3. Tune hyperparameters\n",
    "4. Ensembles / training for longer\n"
   ]
  },
  {
   "cell_type": "code",
   "execution_count": 25,
   "metadata": {},
   "outputs": [],
   "source": [
    "import os\n",
    "import sys\n",
    "import pickle\n",
    "import numpy as np\n",
    "import pandas as pd\n",
    "from pathlib import Path\n",
    "from tqdm import tqdm\n",
    "import matplotlib.pyplot as plt\n",
    "from matplotlib.pyplot import imshow\n",
    "\n",
    "import torch\n",
    "from torch import nn\n",
    "import torch.nn.functional as F\n",
    "import torch.optim as optim\n",
    "from torch.optim import lr_scheduler\n",
    "import torchvision\n",
    "import torchvision.transforms as transforms\n",
    "\n",
    "sys.path.append(str(Path.cwd().parent))\n",
    "from utils.unit_tests import Tester\n",
    "\n",
    "%reload_ext autoreload\n",
    "%autoreload 2\n",
    "%matplotlib inline"
   ]
  },
  {
   "cell_type": "code",
   "execution_count": 22,
   "metadata": {},
   "outputs": [],
   "source": [
    "model = SimpleNet()\n",
    "# loss_fn = torch.nn.CrossEntropyLoss()#reduction=False)\n",
    "# train_loader, val_loader = tester.get_cifar_loaders(bs=32)"
   ]
  },
  {
   "cell_type": "code",
   "execution_count": 23,
   "metadata": {},
   "outputs": [
    {
     "name": "stdout",
     "output_type": "stream",
     "text": [
      "Files already downloaded and verified\n",
      "Files already downloaded and verified\n"
     ]
    }
   ],
   "source": [
    "tester = Tester(model)\n",
    "tester.print_non_trainable_params()\n",
    "tester.check_correct_params_updated()"
   ]
  },
  {
   "cell_type": "code",
   "execution_count": 24,
   "metadata": {},
   "outputs": [
    {
     "name": "stdout",
     "output_type": "stream",
     "text": [
      "Files already downloaded and verified\n",
      "Files already downloaded and verified\n",
      "Gradient for the correct inputs only\n",
      "Using CIFAR10 dataloader with bs=10 for overfitting\n",
      "Files already downloaded and verified\n",
      "Files already downloaded and verified\n"
     ]
    },
    {
     "data": {
      "image/png": "[encoded data removed]",
      "text/plain": [
       "<Figure size 576x360 with 2 Axes>"
      ]
     },
     "metadata": {
      "needs_background": "light"
     },
     "output_type": "display_data"
    }
   ],
   "source": [
    "tester.check_batch_gradients_mixed()\n",
    "tester.overfit_one_batch()"
   ]
  },
  {
   "cell_type": "code",
   "execution_count": null,
   "metadata": {},
   "outputs": [],
   "source": []
  },
  {
   "cell_type": "code",
   "execution_count": 61,
   "metadata": {},
   "outputs": [
    {
     "name": "stdout",
     "output_type": "stream",
     "text": [
      "conv1.weight\n",
      "conv1.bias\n",
      "conv2.weight\n",
      "conv2.bias\n",
      "conv3.weight\n",
      "conv3.bias\n",
      "conv4.weight\n",
      "conv4.bias\n",
      "fc.weight\n",
      "fc.bias\n"
     ]
    }
   ],
   "source": [
    "for name, param in model.named_parameters():\n",
    "    print(name)"
   ]
  },
  {
   "cell_type": "code",
   "execution_count": null,
   "metadata": {},
   "outputs": [],
   "source": []
  }
 ],
 "metadata": {
  "kernelspec": {
   "display_name": "HVAE",
   "language": "python",
   "name": "hvae"
  },
  "language_info": {
   "codemirror_mode": {
    "name": "ipython",
    "version": 3
   },
   "file_extension": ".py",
   "mimetype": "text/x-python",
   "name": "python",
   "nbconvert_exporter": "python",
   "pygments_lexer": "ipython3",
   "version": "3.6.7"
  }
 },
 "nbformat": 4,
 "nbformat_minor": 2
}
